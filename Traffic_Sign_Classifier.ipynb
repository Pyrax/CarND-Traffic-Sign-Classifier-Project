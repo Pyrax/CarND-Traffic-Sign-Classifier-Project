{
 "cells": [
  {
   "cell_type": "markdown",
   "metadata": {},
   "source": [
    "# Self-Driving Car Engineer Nanodegree\n",
    "\n",
    "## Deep Learning\n",
    "\n",
    "## Project: Build a Traffic Sign Recognition Classifier\n",
    "\n",
    "In this notebook, a template is provided for you to implement your functionality in stages, which is required to successfully complete this project. If additional code is required that cannot be included in the notebook, be sure that the Python code is successfully imported and included in your submission if necessary. \n",
    "\n",
    "> **Note**: Once you have completed all of the code implementations, you need to finalize your work by exporting the iPython Notebook as an HTML document. Before exporting the notebook to html, all of the code cells need to have been run so that reviewers can see the final implementation and output. You can then export the notebook by using the menu above and navigating to  \\n\",\n",
    "    \"**File -> Download as -> HTML (.html)**. Include the finished document along with this notebook as your submission. \n",
    "\n",
    "In addition to implementing code, there is a writeup to complete. The writeup should be completed in a separate file, which can be either a markdown file or a pdf document. There is a [write up template](https://github.com/udacity/CarND-Traffic-Sign-Classifier-Project/blob/master/writeup_template.md) that can be used to guide the writing process. Completing the code template and writeup template will cover all of the [rubric points](https://review.udacity.com/#!/rubrics/481/view) for this project.\n",
    "\n",
    "The [rubric](https://review.udacity.com/#!/rubrics/481/view) contains \"Stand Out Suggestions\" for enhancing the project beyond the minimum requirements. The stand out suggestions are optional. If you decide to pursue the \"stand out suggestions\", you can include the code in this Ipython notebook and also discuss the results in the writeup file.\n",
    "\n",
    "\n",
    ">**Note:** Code and Markdown cells can be executed using the **Shift + Enter** keyboard shortcut. In addition, Markdown cells can be edited by typically double-clicking the cell to enter edit mode."
   ]
  },
  {
   "cell_type": "code",
   "execution_count": 1,
   "metadata": {},
   "outputs": [],
   "source": [
    "RANDOM_SEED = 42"
   ]
  },
  {
   "cell_type": "markdown",
   "metadata": {},
   "source": [
    "---\n",
    "## Step 0: Load The Data"
   ]
  },
  {
   "cell_type": "code",
   "execution_count": 2,
   "metadata": {},
   "outputs": [],
   "source": [
    "# Load pickled data\n",
    "import pickle\n",
    "import os\n",
    "import numpy as np\n",
    "\n",
    "data_dir = os.path.join('..', 'data')\n",
    "training_file = os.path.join(data_dir, 'train.p')\n",
    "validation_file = os.path.join(data_dir, 'valid.p')\n",
    "testing_file = os.path.join(data_dir, 'test.p')\n",
    "\n",
    "with open(training_file, mode='rb') as f:\n",
    "    train = pickle.load(f)\n",
    "with open(validation_file, mode='rb') as f:\n",
    "    valid = pickle.load(f)\n",
    "with open(testing_file, mode='rb') as f:\n",
    "    test = pickle.load(f)\n",
    "    \n",
    "X_train, y_train = np.array(train['features']), np.array(train['labels'])\n",
    "X_valid, y_valid = np.array(valid['features']), np.array(valid['labels'])\n",
    "X_test, y_test = np.array(test['features']), np.array(test['labels'])"
   ]
  },
  {
   "cell_type": "markdown",
   "metadata": {},
   "source": [
    "---\n",
    "\n",
    "## Step 1: Dataset Summary & Exploration\n",
    "\n",
    "The pickled data is a dictionary with 4 key/value pairs:\n",
    "\n",
    "- `'features'` is a 4D array containing raw pixel data of the traffic sign images, (num examples, width, height, channels).\n",
    "- `'labels'` is a 1D array containing the label/class id of the traffic sign. The file `signnames.csv` contains id -> name mappings for each id.\n",
    "- `'sizes'` is a list containing tuples, (width, height) representing the original width and height the image.\n",
    "- `'coords'` is a list containing tuples, (x1, y1, x2, y2) representing coordinates of a bounding box around the sign in the image. **THESE COORDINATES ASSUME THE ORIGINAL IMAGE. THE PICKLED DATA CONTAINS RESIZED VERSIONS (32 by 32) OF THESE IMAGES**\n",
    "\n",
    "Complete the basic data summary below. Use python, numpy and/or pandas methods to calculate the data summary rather than hard coding the results. For example, the [pandas shape method](http://pandas.pydata.org/pandas-docs/stable/generated/pandas.DataFrame.shape.html) might be useful for calculating some of the summary results. "
   ]
  },
  {
   "cell_type": "markdown",
   "metadata": {},
   "source": [
    "### Provide a Basic Summary of the Data Set Using Python, Numpy and/or Pandas"
   ]
  },
  {
   "cell_type": "code",
   "execution_count": 3,
   "metadata": {},
   "outputs": [
    {
     "name": "stdout",
     "output_type": "stream",
     "text": [
      "Number of training examples = 34799\n",
      "Number of validation examples = 4410\n",
      "Number of testing examples = 12630\n",
      "Image data shape = (32, 32, 3)\n",
      "Number of classes = 43\n"
     ]
    }
   ],
   "source": [
    "### Replace each question mark with the appropriate value. \n",
    "### Use python, pandas or numpy methods rather than hard coding the results\n",
    "import pandas as pd\n",
    "\n",
    "# Number of training examples\n",
    "n_train = y_train.shape[0]\n",
    "\n",
    "# Number of validation examples\n",
    "n_validation = y_valid.shape[0]\n",
    "\n",
    "# Number of testing examples.\n",
    "n_test = y_test.shape[0]\n",
    "\n",
    "# What's the shape of an traffic sign image?\n",
    "image_shape = X_train.shape[1:]\n",
    "\n",
    "# How many unique classes/labels there are in the dataset.\n",
    "n_classes = pd.DataFrame([y_train, y_valid, y_test]).nunique(axis=1)[0]\n",
    "\n",
    "print(\"Number of training examples =\", n_train)\n",
    "print(\"Number of validation examples =\", n_validation)\n",
    "print(\"Number of testing examples =\", n_test)\n",
    "print(\"Image data shape =\", image_shape)\n",
    "print(\"Number of classes =\", n_classes)"
   ]
  },
  {
   "cell_type": "markdown",
   "metadata": {},
   "source": [
    "### Include an exploratory visualization of the dataset"
   ]
  },
  {
   "cell_type": "markdown",
   "metadata": {},
   "source": [
    "Visualize the German Traffic Signs Dataset using the pickled file(s). This is open ended, suggestions include: plotting traffic sign images, plotting the count of each sign, etc. \n",
    "\n",
    "The [Matplotlib](http://matplotlib.org/) [examples](http://matplotlib.org/examples/index.html) and [gallery](http://matplotlib.org/gallery.html) pages are a great resource for doing visualizations in Python.\n",
    "\n",
    "**NOTE:** It's recommended you start with something simple first. If you wish to do more, come back to it after you've completed the rest of the sections. It can be interesting to look at the distribution of classes in the training, validation and test set. Is the distribution the same? Are there more examples of some classes than others?"
   ]
  },
  {
   "cell_type": "code",
   "execution_count": 4,
   "metadata": {},
   "outputs": [],
   "source": [
    "### Data exploration visualization code\n",
    "import math\n",
    "import matplotlib.pyplot as plt\n",
    "# Visualizations will be shown in the notebook.\n",
    "%matplotlib inline\n",
    "\n",
    "def plot_images_as_grid(images, labels=None, images_per_row=5, figsize=(10, 6), cmap=None):\n",
    "    if labels is None:\n",
    "        labels = []\n",
    "\n",
    "    rows = math.ceil(len(images) / images_per_row)\n",
    "    columns = images_per_row\n",
    "\n",
    "    fig = plt.figure(figsize=figsize)\n",
    "    for i in range(0, len(images)):\n",
    "        ax = fig.add_subplot(rows, columns, i + 1)\n",
    "        if i < len(labels):\n",
    "            ax.set_title(labels[i])\n",
    "        ax.imshow(images[i], cmap=cmap)\n",
    "    plt.tight_layout()\n",
    "    plt.show()\n",
    "    return fig"
   ]
  },
  {
   "cell_type": "code",
   "execution_count": 5,
   "metadata": {},
   "outputs": [
    {
     "data": {
      "image/png": "[encoded data removed]",
      "text/plain": [
       "<Figure size 720x432 with 5 Axes>"
      ]
     },
     "metadata": {},
     "output_type": "display_data"
    },
    {
     "data": {
      "image/png": "[encoded data removed]",
      "text/plain": [
       "<Figure size 720x432 with 5 Axes>"
      ]
     },
     "metadata": {},
     "output_type": "display_data"
    },
    {
     "data": {
      "image/png": "[encoded data removed]",
      "text/plain": [
       "<Figure size 720x432 with 5 Axes>"
      ]
     },
     "metadata": {},
     "output_type": "display_data"
    }
   ],
   "source": [
    "import random\n",
    "\n",
    "# Select 5 random images from each of the train, validation and test datasets to check that\n",
    "# the data consists of valid images.\n",
    "random.seed(RANDOM_SEED)\n",
    "num_samples = 5\n",
    "dataset_dict = {'train': X_train, 'validation': X_valid, 'test': X_test}\n",
    "\n",
    "for key in dataset_dict:\n",
    "    dataset = dataset_dict[key]\n",
    "    random_images = random.choices(dataset, k=num_samples)\n",
    "    plot_images_as_grid(random_images, labels=[f'{key} sample {i+1}' for i in range(num_samples)], images_per_row=num_samples)"
   ]
  },
  {
   "cell_type": "markdown",
   "metadata": {},
   "source": [
    "----\n",
    "\n",
    "## Step 2: Design and Test a Model Architecture\n",
    "\n",
    "Design and implement a deep learning model that learns to recognize traffic signs. Train and test your model on the [German Traffic Sign Dataset](http://benchmark.ini.rub.de/?section=gtsrb&subsection=dataset).\n",
    "\n",
    "The LeNet-5 implementation shown in the [classroom](https://classroom.udacity.com/nanodegrees/nd013/parts/fbf77062-5703-404e-b60c-95b78b2f3f9e/modules/6df7ae49-c61c-4bb2-a23e-6527e69209ec/lessons/601ae704-1035-4287-8b11-e2c2716217ad/concepts/d4aca031-508f-4e0b-b493-e7b706120f81) at the end of the CNN lesson is a solid starting point. You'll have to change the number of classes and possibly the preprocessing, but aside from that it's plug and play! \n",
    "\n",
    "With the LeNet-5 solution from the lecture, you should expect a validation set accuracy of about 0.89. To meet specifications, the validation set accuracy will need to be at least 0.93. It is possible to get an even higher accuracy, but 0.93 is the minimum for a successful project submission. \n",
    "\n",
    "There are various aspects to consider when thinking about this problem:\n",
    "\n",
    "- Neural network architecture (is the network over or underfitting?)\n",
    "- Play around preprocessing techniques (normalization, rgb to grayscale, etc)\n",
    "- Number of examples per label (some have more than others).\n",
    "- Generate fake data.\n",
    "\n",
    "Here is an example of a [published baseline model on this problem](http://yann.lecun.com/exdb/publis/pdf/sermanet-ijcnn-11.pdf). It's not required to be familiar with the approach used in the paper but, it's good practice to try to read papers like these."
   ]
  },
  {
   "cell_type": "markdown",
   "metadata": {},
   "source": [
    "### Pre-process the Data Set (normalization, grayscale, etc.)"
   ]
  },
  {
   "cell_type": "markdown",
   "metadata": {},
   "source": [
    "Minimally, the image data should be normalized so that the data has mean zero and equal variance. For image data, `(pixel - 128)/ 128` is a quick way to approximately normalize the data and can be used in this project. \n",
    "\n",
    "Other pre-processing steps are optional. You can try different techniques to see if it improves performance. \n",
    "\n",
    "Use the code cell (or multiple code cells, if necessary) to implement the first step of your project."
   ]
  },
  {
   "cell_type": "code",
   "execution_count": 6,
   "metadata": {},
   "outputs": [
    {
     "name": "stdout",
     "output_type": "stream",
     "text": [
      "Mean before normalization:  82.6775890369964\n",
      "Mean after normalization:  1.2192509993922922\n"
     ]
    },
    {
     "data": {
      "image/png": "[encoded data removed]",
      "text/plain": [
       "<Figure size 360x216 with 2 Axes>"
      ]
     },
     "metadata": {},
     "output_type": "display_data"
    }
   ],
   "source": [
    "### Preprocess the data here. It is required to normalize the data. Other preprocessing steps could include \n",
    "### converting to grayscale, etc.\n",
    "from sklearn.utils import shuffle\n",
    "import cv2\n",
    "\n",
    "def normalize_image(image):\n",
    "    return (image - 128)/128\n",
    "\n",
    "def preprocess_data(X, y, grayscale=False, normalize=True):\n",
    "    if grayscale is True:\n",
    "        X = np.array([cv2.cvtColor(image, cv2.COLOR_RGB2GRAY) for image in X])\n",
    "        X = X[:, :, :, None]\n",
    "    \n",
    "    if normalize is True:\n",
    "        X = np.array([normalize_image(image) for image in X])\n",
    "    return X, y\n",
    "\n",
    "print(f'Mean before normalization: ', np.mean(np.mean(X_train)))\n",
    "X_train_norm, y_train_norm = preprocess_data(X_train, y_train)\n",
    "print(f'Mean after normalization: ', np.mean(np.mean(X_train_norm)))\n",
    "\n",
    "# Check that grayscale conversion works properly:\n",
    "gray_img, _ = preprocess_data(X_train[:1], y_train[:1], grayscale=True, normalize=False)\n",
    "\n",
    "fig = plt.figure(figsize=(5, 3))\n",
    "ax = fig.add_subplot(121)\n",
    "ax.set_title('original color image')\n",
    "ax.imshow(X_train[0])\n",
    "ax = fig.add_subplot(122)\n",
    "ax.set_title('grayscale image')\n",
    "#ax.imshow(gray_img[0], cmap='gray')\n",
    "plt.show()"
   ]
  },
  {
   "cell_type": "markdown",
   "metadata": {},
   "source": [
    "### Model Architecture"
   ]
  },
  {
   "cell_type": "markdown",
   "metadata": {},
   "source": [
    "First, I created some helper functions which are used to create the layers of my model and add summaries to every layer for TensorBoard:"
   ]
  },
  {
   "cell_type": "code",
   "execution_count": 7,
   "metadata": {},
   "outputs": [
    {
     "name": "stderr",
     "output_type": "stream",
     "text": [
      "C:\\Users\\bjoer\\Anaconda3\\lib\\site-packages\\h5py\\__init__.py:36: FutureWarning: Conversion of the second argument of issubdtype from `float` to `np.floating` is deprecated. In future, it will be treated as `np.float64 == np.dtype(float).type`.\n",
      "  from ._conv import register_converters as _register_converters\n"
     ]
    }
   ],
   "source": [
    "import tensorflow as tf\n",
    "from tensorflow.contrib.layers import flatten\n",
    "\n",
    "# Arguments used for tf.truncated_normal, randomly defines variables for the weights and biases for each layer\n",
    "mu = 0\n",
    "sigma = 0.1\n",
    "\n",
    "def add_layer_summary(W, b, activations):\n",
    "    tf.summary.histogram('weights', W)\n",
    "    tf.summary.histogram('biases', b)\n",
    "    tf.summary.histogram('activations', activations)\n",
    "    \n",
    "def conv_layer(X, size_in, size_out, name='conv', padding='VALID',\n",
    "               filter_size=5, stride=[1, 1, 1, 1], \n",
    "               pooling_size=[1, 2, 2, 1], pooling_stride=[1, 2, 2, 1]):\n",
    "    with tf.name_scope(name):\n",
    "        W = tf.Variable(tf.truncated_normal(shape=[filter_size, filter_size, size_in, size_out], mean=mu, stddev=sigma, seed=RANDOM_SEED), \n",
    "                        name='W')\n",
    "        b = tf.Variable(tf.Variable(tf.zeros(size_out)), name='b')\n",
    "        conv = tf.nn.conv2d(X, W, strides=stride, padding=padding) + b\n",
    "        act = tf.nn.relu(conv)\n",
    "        add_layer_summary(W, b, act)\n",
    "        return tf.nn.max_pool(act, ksize=pooling_size, strides=pooling_stride, padding=padding)\n",
    "\n",
    "def fc_layer(X, size_in, size_out, name='fc'):\n",
    "    with tf.name_scope(name):\n",
    "        W = tf.Variable(tf.truncated_normal(shape=[size_in, size_out], mean=mu, stddev=sigma, seed=RANDOM_SEED), \n",
    "                        name='W')\n",
    "        b = tf.Variable(tf.zeros(size_out), name='b')\n",
    "        fc = tf.matmul(X, W) + b\n",
    "        act = tf.nn.relu(fc)\n",
    "        add_layer_summary(W, b, act)\n",
    "        return act\n",
    "\n",
    "def output_layer(X, size_in, size_out, name='output'):\n",
    "    with tf.name_scope(name):\n",
    "        W = tf.Variable(tf.truncated_normal(shape=[size_in, size_out], mean=mu, stddev=sigma, seed=RANDOM_SEED), \n",
    "                        name='W')\n",
    "        b = tf.Variable(tf.zeros(size_out), name='b')\n",
    "        out = tf.matmul(X, W) + b\n",
    "        tf.summary.histogram('weights', W)\n",
    "        tf.summary.histogram('biases', b)\n",
    "        return out"
   ]
  },
  {
   "cell_type": "markdown",
   "metadata": {},
   "source": [
    "Then, I created a LeNet-architecture by building each of the layers using the helper functions:"
   ]
  },
  {
   "cell_type": "code",
   "execution_count": 8,
   "metadata": {},
   "outputs": [],
   "source": [
    "def LeNet_model(input, n_channels=3):\n",
    "    # Layer 1: Convolutional. Input = 32x32xC. Output = 28x28x6.\n",
    "    # Pooling. Input = 28x28x6. Output = 14x14x6.\n",
    "    conv1 = conv_layer(input, size_in=n_channels, size_out=6, name='conv1')\n",
    "\n",
    "    # Layer 2: Convolutional. Output = 10x10x16.\n",
    "    # Pooling. Input = 10x10x16. Output = 5x5x16.\n",
    "    conv2 = conv_layer(conv1, size_in=6, size_out=16, name='conv2')\n",
    "\n",
    "    # Flatten. Input = 5x5x16. Output = 400.\n",
    "    fc0 = flatten(conv2)\n",
    "\n",
    "    # Layer 3: Fully Connected. Input = 400. Output = 120.\n",
    "    fc1 = fc_layer(fc0, size_in=400, size_out=120, name='fc1')\n",
    "\n",
    "    # Layer 4: Fully Connected. Input = 120. Output = 84.\n",
    "    fc2 = fc_layer(fc1, size_in=120, size_out=84, name='fc2')\n",
    "\n",
    "    # Layer 5: Fully Connected. Input = 84. Output = n_classes.\n",
    "    logits = output_layer(fc2, size_in=84, size_out=n_classes, name='output')\n",
    "    return logits"
   ]
  },
  {
   "cell_type": "markdown",
   "metadata": {},
   "source": [
    "This model is then used inside a class that takes care of feeding data to the model to train, validate and test the neural net. The class provides support for different values for the hyperparameters to tune them to our data:"
   ]
  },
  {
   "cell_type": "code",
   "execution_count": 9,
   "metadata": {},
   "outputs": [],
   "source": [
    "LOG_DIR = 'logs/'\n",
    "MODEL_DIR = 'models/'\n",
    "\n",
    "class TrafficSignNetwork:\n",
    "    def __init__(self, model_name, batch_size=128, learning_rate=1e-2, grayscale=False):\n",
    "        self.model_name = model_name\n",
    "        self.batch_size = batch_size\n",
    "        self.learning_rate = learning_rate\n",
    "        \n",
    "        tf.reset_default_graph()\n",
    "        \n",
    "        n_channels = 1 if grayscale else 3\n",
    "        \n",
    "        self.x = tf.placeholder(tf.float32, [None, 32, 32, n_channels], name='features')\n",
    "        self.y = tf.placeholder(tf.int32, [None], name='labels')\n",
    "        one_hot_y = tf.one_hot(self.y, n_classes)\n",
    "\n",
    "        image_summary = tf.summary.image('input', self.x, 3)\n",
    "        self.logits = LeNet_model(self.x, n_channels=n_channels)\n",
    "\n",
    "        cross_entropy = tf.nn.softmax_cross_entropy_with_logits_v2(labels=one_hot_y, logits=self.logits)\n",
    "        self.loss = tf.reduce_mean(cross_entropy)\n",
    "\n",
    "        optimizer = tf.train.AdamOptimizer(learning_rate=learning_rate)\n",
    "        self.loss_minimize = optimizer.minimize(self.loss)\n",
    "\n",
    "        correct_prediction = tf.equal(tf.argmax(self.logits, 1), tf.argmax(one_hot_y, 1))\n",
    "        self.accuracy = tf.reduce_mean(tf.cast(correct_prediction, tf.float32))\n",
    "\n",
    "        self.model_summary = tf.summary.merge_all()\n",
    "\n",
    "        with tf.name_scope('performance'):\n",
    "            self.loss_ph = tf.placeholder(tf.float32, shape=None, name='loss_summary')\n",
    "            loss_summary = tf.summary.scalar('loss', self.loss_ph)\n",
    "\n",
    "            self.accuracy_ph = tf.placeholder(tf.float32, shape=None, name='accuracy_summary')\n",
    "            accuracy_summary = tf.summary.scalar('accuracy', self.accuracy_ph)\n",
    "\n",
    "        self.performance_summaries = tf.summary.merge([loss_summary, accuracy_summary])\n",
    "        \n",
    "        self.saver = tf.train.Saver()\n",
    "    \n",
    "    def train_and_validate(self, X_train, y_train, X_valid, y_valid, epochs=10):\n",
    "        with tf.Session() as sess:\n",
    "            sess.run(tf.global_variables_initializer())\n",
    "            \n",
    "            log_base_dir = f'{LOG_DIR}/{self.model_name}'\n",
    "            train_writer = tf.summary.FileWriter(f'{log_base_dir}/train', sess.graph)\n",
    "            valid_writer = tf.summary.FileWriter(f'{log_base_dir}/valid', sess.graph)\n",
    "\n",
    "            print(f'Training model \"{self.model_name}\"...')\n",
    "\n",
    "            for epoch in range(epochs):\n",
    "                avg_train_acc, train_summ = self.train_epoch(sess, X_train, y_train)\n",
    "                for s in train_summ:\n",
    "                    if s is not None:\n",
    "                        train_writer.add_summary(s, epoch)\n",
    "                \n",
    "                avg_valid_acc, valid_summ = self.validate_epoch(sess, X_valid, y_valid)\n",
    "                valid_writer.add_summary(valid_summ, epoch)\n",
    "                \n",
    "                print(f'EPOCH {epoch}: avg training accuracy: {avg_train_acc:.3f} - avg validation accuracy: {avg_valid_acc:.3f}')\n",
    "\n",
    "            print()\n",
    "            self.saver.save(sess, os.path.join(MODEL_DIR, f'{self.model_name}.ckpt'))\n",
    "            print('Model saved...')\n",
    "    \n",
    "    def train_epoch(self, session, X_train, y_train):\n",
    "        train_loss = []\n",
    "        train_acc = []\n",
    "        train_batch_weights = []\n",
    "        \n",
    "        X_train, y_train = shuffle(X_train, y_train, random_state=RANDOM_SEED)\n",
    "        \n",
    "        num_examples = len(X_train)\n",
    "        total_batches = num_examples // self.batch_size\n",
    "        for offset in range(0, num_examples, self.batch_size):\n",
    "            end = offset + self.batch_size\n",
    "            batch_x, batch_y = X_train[offset:end], y_train[offset:end]\n",
    "\n",
    "            # get distributions and input from just the first batch of the epoch\n",
    "            model_summary = None\n",
    "            if offset == 0:\n",
    "                l, acc, model_summary, _ = session.run([\n",
    "                    self.loss, \n",
    "                    self.accuracy, \n",
    "                    self.model_summary, \n",
    "                    self.loss_minimize\n",
    "                ], feed_dict={self.x: batch_x, self.y: batch_y})\n",
    "            else:\n",
    "                l, acc, _ = session.run([\n",
    "                    self.loss, \n",
    "                    self.accuracy, \n",
    "                    self.loss_minimize\n",
    "                ], feed_dict={self.x: batch_x, self.y: batch_y})\n",
    "\n",
    "            train_loss.append(l)\n",
    "            train_acc.append(acc)\n",
    "            train_batch_weights.append(len(batch_x))\n",
    "\n",
    "        avg_train_loss = np.average(train_loss, weights=train_batch_weights)\n",
    "        avg_train_acc = np.average(train_acc, weights=train_batch_weights)\n",
    "        \n",
    "        performance_summary = session.run(self.performance_summaries, \n",
    "                                          feed_dict={self.loss_ph: avg_train_loss, self.accuracy_ph: avg_train_acc})\n",
    "        return avg_train_acc, [performance_summary, model_summary]\n",
    "    \n",
    "    def validate_epoch(self, session, X_valid, y_valid):\n",
    "        valid_loss = []\n",
    "        valid_acc = []\n",
    "        valid_batch_weights = []\n",
    "        \n",
    "        valid_len = len(X_valid)\n",
    "        for offset in range(0, valid_len, self.batch_size):\n",
    "            end = offset + self.batch_size\n",
    "            batch_x, batch_y = X_valid[offset:end], y_valid[offset:end]\n",
    "\n",
    "            l, acc = session.run([self.loss, self.accuracy], feed_dict={self.x: batch_x, self.y: batch_y})\n",
    "\n",
    "            valid_loss.append(l)\n",
    "            valid_acc.append(acc)\n",
    "            valid_batch_weights.append(len(batch_x))\n",
    "\n",
    "        avg_valid_loss = np.average(valid_loss, weights=valid_batch_weights)\n",
    "        avg_valid_acc = np.average(valid_acc, weights=valid_batch_weights)\n",
    "        \n",
    "        performance_summary = session.run(self.performance_summaries, \n",
    "                                          feed_dict={self.loss_ph: avg_valid_loss, self.accuracy_ph: avg_valid_acc})\n",
    "        return avg_valid_acc, performance_summary\n",
    "    \n",
    "    def test(self, X_test, y_test):\n",
    "        with tf.Session() as sess:\n",
    "            saver.restore(sess, tf.train.latest_checkpoint('.'))\n",
    "            \n",
    "            test_acc = evaluate(X_test, y_test)\n",
    "            print(\"Test Accuracy = {:.3f}\".format(test_acc))"
   ]
  },
  {
   "cell_type": "markdown",
   "metadata": {},
   "source": [
    "### Train, Validate and Test the Model"
   ]
  },
  {
   "cell_type": "markdown",
   "metadata": {},
   "source": [
    "A validation set can be used to assess how well the model is performing. A low accuracy on the training and validation\n",
    "sets imply underfitting. A high accuracy on the training set but low accuracy on the validation set implies overfitting."
   ]
  },
  {
   "cell_type": "markdown",
   "metadata": {},
   "source": [
    "Calculate and report the accuracy on the training and validation set.\n",
    "Once a final model architecture is selected, the accuracy on the test set should be calculated and reported as well."
   ]
  },
  {
   "cell_type": "code",
   "execution_count": 10,
   "metadata": {},
   "outputs": [
    {
     "name": "stdout",
     "output_type": "stream",
     "text": [
      "Training model \"LeNet_GRAY_NORM_R-0.01_1538526255\"...\n",
      "EPOCH 0: avg training accuracy: 0.432 - avg validation accuracy: 0.596\n",
      "EPOCH 1: avg training accuracy: 0.774 - avg validation accuracy: 0.693\n",
      "EPOCH 2: avg training accuracy: 0.839 - avg validation accuracy: 0.700\n",
      "EPOCH 3: avg training accuracy: 0.856 - avg validation accuracy: 0.706\n",
      "EPOCH 4: avg training accuracy: 0.874 - avg validation accuracy: 0.742\n",
      "EPOCH 5: avg training accuracy: 0.882 - avg validation accuracy: 0.737\n",
      "EPOCH 6: avg training accuracy: 0.887 - avg validation accuracy: 0.713\n",
      "EPOCH 7: avg training accuracy: 0.891 - avg validation accuracy: 0.750\n",
      "EPOCH 8: avg training accuracy: 0.900 - avg validation accuracy: 0.742\n",
      "EPOCH 9: avg training accuracy: 0.895 - avg validation accuracy: 0.724\n",
      "EPOCH 10: avg training accuracy: 0.907 - avg validation accuracy: 0.723\n",
      "EPOCH 11: avg training accuracy: 0.903 - avg validation accuracy: 0.750\n",
      "EPOCH 12: avg training accuracy: 0.902 - avg validation accuracy: 0.768\n",
      "EPOCH 13: avg training accuracy: 0.886 - avg validation accuracy: 0.734\n",
      "EPOCH 14: avg training accuracy: 0.907 - avg validation accuracy: 0.726\n",
      "EPOCH 15: avg training accuracy: 0.914 - avg validation accuracy: 0.720\n",
      "EPOCH 16: avg training accuracy: 0.913 - avg validation accuracy: 0.710\n",
      "EPOCH 17: avg training accuracy: 0.904 - avg validation accuracy: 0.761\n",
      "EPOCH 18: avg training accuracy: 0.912 - avg validation accuracy: 0.739\n",
      "EPOCH 19: avg training accuracy: 0.916 - avg validation accuracy: 0.743\n",
      "\n",
      "Model saved...\n",
      "Training model \"LeNet_RGB_NORM_R-0.01_1538526299\"...\n",
      "EPOCH 0: avg training accuracy: 0.290 - avg validation accuracy: 0.483\n",
      "EPOCH 1: avg training accuracy: 0.665 - avg validation accuracy: 0.611\n",
      "EPOCH 2: avg training accuracy: 0.767 - avg validation accuracy: 0.647\n",
      "EPOCH 3: avg training accuracy: 0.813 - avg validation accuracy: 0.642\n",
      "EPOCH 4: avg training accuracy: 0.818 - avg validation accuracy: 0.650\n",
      "EPOCH 5: avg training accuracy: 0.843 - avg validation accuracy: 0.597\n",
      "EPOCH 6: avg training accuracy: 0.838 - avg validation accuracy: 0.695\n",
      "EPOCH 7: avg training accuracy: 0.854 - avg validation accuracy: 0.696\n",
      "EPOCH 8: avg training accuracy: 0.852 - avg validation accuracy: 0.710\n",
      "EPOCH 9: avg training accuracy: 0.877 - avg validation accuracy: 0.657\n",
      "EPOCH 10: avg training accuracy: 0.866 - avg validation accuracy: 0.700\n",
      "EPOCH 11: avg training accuracy: 0.873 - avg validation accuracy: 0.690\n",
      "EPOCH 12: avg training accuracy: 0.871 - avg validation accuracy: 0.674\n",
      "EPOCH 13: avg training accuracy: 0.868 - avg validation accuracy: 0.695\n",
      "EPOCH 14: avg training accuracy: 0.888 - avg validation accuracy: 0.700\n",
      "EPOCH 15: avg training accuracy: 0.881 - avg validation accuracy: 0.711\n",
      "EPOCH 16: avg training accuracy: 0.891 - avg validation accuracy: 0.727\n",
      "EPOCH 17: avg training accuracy: 0.883 - avg validation accuracy: 0.685\n",
      "EPOCH 18: avg training accuracy: 0.869 - avg validation accuracy: 0.688\n",
      "EPOCH 19: avg training accuracy: 0.890 - avg validation accuracy: 0.715\n",
      "\n",
      "Model saved...\n",
      "Training model \"LeNet_GRAY_NORM_R-0.001_1538526368\"...\n",
      "EPOCH 0: avg training accuracy: 0.223 - avg validation accuracy: 0.333\n",
      "EPOCH 1: avg training accuracy: 0.567 - avg validation accuracy: 0.570\n",
      "EPOCH 2: avg training accuracy: 0.730 - avg validation accuracy: 0.635\n",
      "EPOCH 3: avg training accuracy: 0.809 - avg validation accuracy: 0.677\n",
      "EPOCH 4: avg training accuracy: 0.855 - avg validation accuracy: 0.700\n",
      "EPOCH 5: avg training accuracy: 0.883 - avg validation accuracy: 0.698\n",
      "EPOCH 6: avg training accuracy: 0.902 - avg validation accuracy: 0.708\n",
      "EPOCH 7: avg training accuracy: 0.917 - avg validation accuracy: 0.723\n",
      "EPOCH 8: avg training accuracy: 0.930 - avg validation accuracy: 0.727\n",
      "EPOCH 9: avg training accuracy: 0.941 - avg validation accuracy: 0.739\n",
      "EPOCH 10: avg training accuracy: 0.948 - avg validation accuracy: 0.748\n",
      "EPOCH 11: avg training accuracy: 0.955 - avg validation accuracy: 0.742\n",
      "EPOCH 12: avg training accuracy: 0.959 - avg validation accuracy: 0.744\n",
      "EPOCH 13: avg training accuracy: 0.965 - avg validation accuracy: 0.750\n",
      "EPOCH 14: avg training accuracy: 0.968 - avg validation accuracy: 0.742\n",
      "EPOCH 15: avg training accuracy: 0.968 - avg validation accuracy: 0.740\n",
      "EPOCH 16: avg training accuracy: 0.974 - avg validation accuracy: 0.742\n",
      "EPOCH 17: avg training accuracy: 0.974 - avg validation accuracy: 0.736\n",
      "EPOCH 18: avg training accuracy: 0.979 - avg validation accuracy: 0.730\n",
      "EPOCH 19: avg training accuracy: 0.980 - avg validation accuracy: 0.738\n",
      "\n",
      "Model saved...\n",
      "Training model \"LeNet_RGB_NORM_R-0.001_1538526409\"...\n",
      "EPOCH 0: avg training accuracy: 0.208 - avg validation accuracy: 0.298\n",
      "EPOCH 1: avg training accuracy: 0.532 - avg validation accuracy: 0.554\n",
      "EPOCH 2: avg training accuracy: 0.705 - avg validation accuracy: 0.624\n",
      "EPOCH 3: avg training accuracy: 0.790 - avg validation accuracy: 0.669\n",
      "EPOCH 4: avg training accuracy: 0.842 - avg validation accuracy: 0.686\n",
      "EPOCH 5: avg training accuracy: 0.874 - avg validation accuracy: 0.702\n",
      "EPOCH 6: avg training accuracy: 0.897 - avg validation accuracy: 0.712\n",
      "EPOCH 7: avg training accuracy: 0.911 - avg validation accuracy: 0.720\n",
      "EPOCH 8: avg training accuracy: 0.925 - avg validation accuracy: 0.722\n",
      "EPOCH 9: avg training accuracy: 0.935 - avg validation accuracy: 0.729\n",
      "EPOCH 10: avg training accuracy: 0.944 - avg validation accuracy: 0.737\n",
      "EPOCH 11: avg training accuracy: 0.952 - avg validation accuracy: 0.742\n",
      "EPOCH 12: avg training accuracy: 0.959 - avg validation accuracy: 0.748\n",
      "EPOCH 13: avg training accuracy: 0.962 - avg validation accuracy: 0.737\n",
      "EPOCH 14: avg training accuracy: 0.966 - avg validation accuracy: 0.739\n",
      "EPOCH 15: avg training accuracy: 0.969 - avg validation accuracy: 0.750\n",
      "EPOCH 16: avg training accuracy: 0.969 - avg validation accuracy: 0.760\n",
      "EPOCH 17: avg training accuracy: 0.969 - avg validation accuracy: 0.750\n",
      "EPOCH 18: avg training accuracy: 0.973 - avg validation accuracy: 0.756\n",
      "EPOCH 19: avg training accuracy: 0.975 - avg validation accuracy: 0.743\n",
      "\n",
      "Model saved...\n"
     ]
    }
   ],
   "source": [
    "import time\n",
    "\n",
    "# Batch size should be fixed after tuning hyperparameters - try sizes of [32, 64, 128, 256]\n",
    "\n",
    "# Evaluating different hyperparameters and network structures:\n",
    "# 1e-4 is too low\n",
    "for learning_rate in [1e-2, 1e-3]:\n",
    "    for grayscale in [True, False]:\n",
    "        channel_str = 'GRAY' if grayscale else 'RGB'\n",
    "        model_name = f'LeNet_{channel_str}_NORM_R-{learning_rate}_{int(time.time())}'\n",
    "        \n",
    "        X_train_pre, y_train_pre = preprocess_data(X_train, y_train, grayscale=grayscale)\n",
    "        X_valid_pre, y_valid_pre = preprocess_data(X_valid, y_valid, grayscale=grayscale)\n",
    "        \n",
    "        net = TrafficSignNetwork(model_name, batch_size=128, learning_rate=learning_rate, grayscale=grayscale)\n",
    "        net.train_and_validate(X_train_pre, y_train_pre, X_valid_pre, y_valid_pre, epochs=20)"
   ]
  },
  {
   "cell_type": "markdown",
   "metadata": {},
   "source": [
    "---\n",
    "\n",
    "## Step 3: Test a Model on New Images\n",
    "\n",
    "To give yourself more insight into how your model is working, download at least five pictures of German traffic signs from the web and use your model to predict the traffic sign type.\n",
    "\n",
    "You may find `signnames.csv` useful as it contains mappings from the class id (integer) to the actual sign name."
   ]
  },
  {
   "cell_type": "markdown",
   "metadata": {},
   "source": [
    "### Load and Output the Images"
   ]
  },
  {
   "cell_type": "code",
   "execution_count": 11,
   "metadata": {},
   "outputs": [],
   "source": [
    "### Load the images and plot them here.\n",
    "### Feel free to use as many code cells as needed."
   ]
  },
  {
   "cell_type": "markdown",
   "metadata": {},
   "source": [
    "### Predict the Sign Type for Each Image"
   ]
  },
  {
   "cell_type": "code",
   "execution_count": 12,
   "metadata": {},
   "outputs": [],
   "source": [
    "### Run the predictions here and use the model to output the prediction for each image.\n",
    "### Make sure to pre-process the images with the same pre-processing pipeline used earlier.\n",
    "### Feel free to use as many code cells as needed."
   ]
  },
  {
   "cell_type": "markdown",
   "metadata": {},
   "source": [
    "### Analyze Performance"
   ]
  },
  {
   "cell_type": "code",
   "execution_count": 13,
   "metadata": {},
   "outputs": [],
   "source": [
    "### Calculate the accuracy for these 5 new images. \n",
    "### For example, if the model predicted 1 out of 5 signs correctly, it's 20% accurate on these new images."
   ]
  },
  {
   "cell_type": "markdown",
   "metadata": {},
   "source": [
    "### Output Top 5 Softmax Probabilities For Each Image Found on the Web"
   ]
  },
  {
   "cell_type": "markdown",
   "metadata": {},
   "source": [
    "For each of the new images, print out the model's softmax probabilities to show the **certainty** of the model's predictions (limit the output to the top 5 probabilities for each image). [`tf.nn.top_k`](https://www.tensorflow.org/versions/r0.12/api_docs/python/nn.html#top_k) could prove helpful here. \n",
    "\n",
    "The example below demonstrates how tf.nn.top_k can be used to find the top k predictions for each image.\n",
    "\n",
    "`tf.nn.top_k` will return the values and indices (class ids) of the top k predictions. So if k=3, for each sign, it'll return the 3 largest probabilities (out of a possible 43) and the correspoding class ids.\n",
    "\n",
    "Take this numpy array as an example. The values in the array represent predictions. The array contains softmax probabilities for five candidate images with six possible classes. `tf.nn.top_k` is used to choose the three classes with the highest probability:\n",
    "\n",
    "```\n",
    "# (5, 6) array\n",
    "a = np.array([[ 0.24879643,  0.07032244,  0.12641572,  0.34763842,  0.07893497,\n",
    "         0.12789202],\n",
    "       [ 0.28086119,  0.27569815,  0.08594638,  0.0178669 ,  0.18063401,\n",
    "         0.15899337],\n",
    "       [ 0.26076848,  0.23664738,  0.08020603,  0.07001922,  0.1134371 ,\n",
    "         0.23892179],\n",
    "       [ 0.11943333,  0.29198961,  0.02605103,  0.26234032,  0.1351348 ,\n",
    "         0.16505091],\n",
    "       [ 0.09561176,  0.34396535,  0.0643941 ,  0.16240774,  0.24206137,\n",
    "         0.09155967]])\n",
    "```\n",
    "\n",
    "Running it through `sess.run(tf.nn.top_k(tf.constant(a), k=3))` produces:\n",
    "\n",
    "```\n",
    "TopKV2(values=array([[ 0.34763842,  0.24879643,  0.12789202],\n",
    "       [ 0.28086119,  0.27569815,  0.18063401],\n",
    "       [ 0.26076848,  0.23892179,  0.23664738],\n",
    "       [ 0.29198961,  0.26234032,  0.16505091],\n",
    "       [ 0.34396535,  0.24206137,  0.16240774]]), indices=array([[3, 0, 5],\n",
    "       [0, 1, 4],\n",
    "       [0, 5, 1],\n",
    "       [1, 3, 5],\n",
    "       [1, 4, 3]], dtype=int32))\n",
    "```\n",
    "\n",
    "Looking just at the first row we get `[ 0.34763842,  0.24879643,  0.12789202]`, you can confirm these are the 3 largest probabilities in `a`. You'll also notice `[3, 0, 5]` are the corresponding indices."
   ]
  },
  {
   "cell_type": "code",
   "execution_count": 14,
   "metadata": {},
   "outputs": [],
   "source": [
    "### Print out the top five softmax probabilities for the predictions on the German traffic sign images found on the web. \n",
    "### Feel free to use as many code cells as needed."
   ]
  },
  {
   "cell_type": "markdown",
   "metadata": {},
   "source": [
    "### Project Writeup\n",
    "\n",
    "Once you have completed the code implementation, document your results in a project writeup using this [template](https://github.com/udacity/CarND-Traffic-Sign-Classifier-Project/blob/master/writeup_template.md) as a guide. The writeup can be in a markdown or pdf file. "
   ]
  },
  {
   "cell_type": "markdown",
   "metadata": {},
   "source": [
    "> **Note**: Once you have completed all of the code implementations and successfully answered each question above, you may finalize your work by exporting the iPython Notebook as an HTML document. You can do this by using the menu above and navigating to  \\n\",\n",
    "    \"**File -> Download as -> HTML (.html)**. Include the finished document along with this notebook as your submission."
   ]
  },
  {
   "cell_type": "markdown",
   "metadata": {},
   "source": [
    "---\n",
    "\n",
    "## Step 4 (Optional): Visualize the Neural Network's State with Test Images\n",
    "\n",
    " This Section is not required to complete but acts as an additional excersise for understaning the output of a neural network's weights. While neural networks can be a great learning device they are often referred to as a black box. We can understand what the weights of a neural network look like better by plotting their feature maps. After successfully training your neural network you can see what it's feature maps look like by plotting the output of the network's weight layers in response to a test stimuli image. From these plotted feature maps, it's possible to see what characteristics of an image the network finds interesting. For a sign, maybe the inner network feature maps react with high activation to the sign's boundary outline or to the contrast in the sign's painted symbol.\n",
    "\n",
    " Provided for you below is the function code that allows you to get the visualization output of any tensorflow weight layer you want. The inputs to the function should be a stimuli image, one used during training or a new one you provided, and then the tensorflow variable name that represents the layer's state during the training process, for instance if you wanted to see what the [LeNet lab's](https://classroom.udacity.com/nanodegrees/nd013/parts/fbf77062-5703-404e-b60c-95b78b2f3f9e/modules/6df7ae49-c61c-4bb2-a23e-6527e69209ec/lessons/601ae704-1035-4287-8b11-e2c2716217ad/concepts/d4aca031-508f-4e0b-b493-e7b706120f81) feature maps looked like for it's second convolutional layer you could enter conv2 as the tf_activation variable.\n",
    "\n",
    "For an example of what feature map outputs look like, check out NVIDIA's results in their paper [End-to-End Deep Learning for Self-Driving Cars](https://devblogs.nvidia.com/parallelforall/deep-learning-self-driving-cars/) in the section Visualization of internal CNN State. NVIDIA was able to show that their network's inner weights had high activations to road boundary lines by comparing feature maps from an image with a clear path to one without. Try experimenting with a similar test to show that your trained network's weights are looking for interesting features, whether it's looking at differences in feature maps from images with or without a sign, or even what feature maps look like in a trained network vs a completely untrained one on the same sign image.\n",
    "\n",
    "<figure>\n",
    " <img src=\"visualize_cnn.png\" width=\"380\" alt=\"Combined Image\" />\n",
    " <figcaption>\n",
    " <p></p> \n",
    " <p style=\"text-align: center;\"> Your output should look something like this (above)</p> \n",
    " </figcaption>\n",
    "</figure>\n",
    " <p></p> \n"
   ]
  },
  {
   "cell_type": "code",
   "execution_count": 15,
   "metadata": {},
   "outputs": [],
   "source": [
    "### Visualize your network's feature maps here.\n",
    "### Feel free to use as many code cells as needed.\n",
    "\n",
    "# image_input: the test image being fed into the network to produce the feature maps\n",
    "# tf_activation: should be a tf variable name used during your training procedure that represents the calculated state of a specific weight layer\n",
    "# activation_min/max: can be used to view the activation contrast in more detail, by default matplot sets min and max to the actual min and max values of the output\n",
    "# plt_num: used to plot out multiple different weight feature map sets on the same block, just extend the plt number for each new feature map entry\n",
    "\n",
    "def outputFeatureMap(image_input, tf_activation, activation_min=-1, activation_max=-1 ,plt_num=1):\n",
    "    # Here make sure to preprocess your image_input in a way your network expects\n",
    "    # with size, normalization, ect if needed\n",
    "    # image_input =\n",
    "    # Note: x should be the same name as your network's tensorflow data placeholder variable\n",
    "    # If you get an error tf_activation is not defined it may be having trouble accessing the variable from inside a function\n",
    "    activation = tf_activation.eval(session=sess,feed_dict={x : image_input})\n",
    "    featuremaps = activation.shape[3]\n",
    "    plt.figure(plt_num, figsize=(15,15))\n",
    "    for featuremap in range(featuremaps):\n",
    "        plt.subplot(6,8, featuremap+1) # sets the number of feature maps to show on each row and column\n",
    "        plt.title('FeatureMap ' + str(featuremap)) # displays the feature map number\n",
    "        if activation_min != -1 & activation_max != -1:\n",
    "            plt.imshow(activation[0,:,:, featuremap], interpolation=\"nearest\", vmin =activation_min, vmax=activation_max, cmap=\"gray\")\n",
    "        elif activation_max != -1:\n",
    "            plt.imshow(activation[0,:,:, featuremap], interpolation=\"nearest\", vmax=activation_max, cmap=\"gray\")\n",
    "        elif activation_min !=-1:\n",
    "            plt.imshow(activation[0,:,:, featuremap], interpolation=\"nearest\", vmin=activation_min, cmap=\"gray\")\n",
    "        else:\n",
    "            plt.imshow(activation[0,:,:, featuremap], interpolation=\"nearest\", cmap=\"gray\")"
   ]
  }
 ],
 "metadata": {
  "anaconda-cloud": {},
  "kernelspec": {
   "display_name": "Python 3",
   "language": "python",
   "name": "python3"
  },
  "language_info": {
   "codemirror_mode": {
    "name": "ipython",
    "version": 3
   },
   "file_extension": ".py",
   "mimetype": "text/x-python",
   "name": "python",
   "nbconvert_exporter": "python",
   "pygments_lexer": "ipython3",
   "version": "3.6.5"
  }
 },
 "nbformat": 4,
 "nbformat_minor": 1
}
